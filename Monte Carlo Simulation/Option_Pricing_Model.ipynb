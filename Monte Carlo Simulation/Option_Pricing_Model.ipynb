{
 "cells": [
  {
   "cell_type": "code",
   "execution_count": 41,
   "id": "0dd45ea2",
   "metadata": {},
   "outputs": [],
   "source": [
    "import numpy as np\n",
    "from scipy.stats import norm\n",
    "import math\n",
    "import time"
   ]
  },
  {
   "cell_type": "code",
   "execution_count": 42,
   "id": "3767847c",
   "metadata": {},
   "outputs": [],
   "source": [
    "class BlackScholes:\n",
    "    def __init__(self, S0, E, T, rf, sigma):\n",
    "        self.S0 = S0\n",
    "        self.E = E\n",
    "        self.T = T\n",
    "        self.rf = rf\n",
    "        self.sigma = sigma\n",
    "        \n",
    "    def call_option_simulation(self):\n",
    "        d1 = (np.log(self.S0/self.E) + (self.rf + 0.5*self.sigma**2)*self.T)/ self.sigma*np.sqrt(self.T)\n",
    "        d2 = d1 - self.sigma*np.sqrt(self.T)\n",
    "        stock_price = self.S0*norm.cdf(d1, 0, 1) - self.E*np.exp(-1.0*self.rf*self.T)*norm.cdf(d2, 0, 1)\n",
    "        return stock_price\n",
    "    \n",
    "    def put_option_simulation(self):\n",
    "        d1 = (np.log(self.S0/self.E) + (self.rf + 0.5*self.sigma**2)*self.T)/ self.sigma*np.sqrt(self.T)\n",
    "        d2 = d1 - self.sigma*np.sqrt(self.T)\n",
    "        stock_price = self.E*np.exp(-1.0*self.rf*self.T)*norm.cdf(-d2, 0, 1) - self.S0*norm.cdf(-d1, 0, 1)\n",
    "        return stock_price"
   ]
  },
  {
   "cell_type": "code",
   "execution_count": 43,
   "id": "cd20a033",
   "metadata": {},
   "outputs": [
    {
     "name": "stdout",
     "output_type": "stream",
     "text": [
      "Call option price with Monte Carlo approach:  26.420546543509452\n",
      "Put option price with Monte Carlo approach:  0.5044125794282046\n",
      "Call option price with Black Scholes approach:  26.42084922204863\n",
      "Put option price with Black Scholes approach:  0.5026712902204107\n"
     ]
    }
   ],
   "source": [
    "class MonteCarlo:\n",
    "    def __init__(self, S0, E, T, rf, sigma, iterations):\n",
    "        self.S0 = S0\n",
    "        self.E = E\n",
    "        self.T = T\n",
    "        self.rf = rf\n",
    "        self.sigma = sigma\n",
    "        self.iterations = iterations\n",
    "        \n",
    "    def call_option_simulation(self):\n",
    "#         we have two columns: the first with 0s and the second column will store the payoff\n",
    "#         we need the first column of 0s: payoff function is max(0, S-E) for call option\n",
    "        option_data = np.zeros([self.iterations, 2])\n",
    "        \n",
    "#         dimensions: 1 dimensional array with as many items as the iterations\n",
    "        rand = np.random.normal(0, 1, [1, self.iterations])\n",
    "    \n",
    "#         equation for the S(t) stock price\n",
    "        stock_price = self.S0*np.exp(self.T*(self.rf - 0.5*self.sigma**2) + self.sigma*np.sqrt(self.T)*rand)\n",
    "        \n",
    "#         we need S-E because we need to calculate max(S-E,0)\n",
    "        option_data[:, 1] = stock_price - self.E\n",
    "    \n",
    "#         average for the Monte Carlo method\n",
    "        average = np.sum(np.amax(option_data, axis = 1))/float(self.iterations)\n",
    "    \n",
    "#         we have to use the discount factor as exp(-rT) for continuous discounting\n",
    "        return np.exp(-1.0*self.rf*self.T)*average\n",
    "\n",
    "    def put_option_simulation(self):\n",
    "#         we have two columns: the first with 0s and the second column will store the payoff\n",
    "#         we need the first column of 0s: payoff function is max(0, S-E) for call option\n",
    "        option_data = np.zeros([self.iterations, 2])\n",
    "    \n",
    "#         dimensions: 1 dimensional array with as many items as the iterations\n",
    "        rand = np.random.normal(0, 1, [1, self.iterations])\n",
    "    \n",
    "#         equation for the S(t) stock price\n",
    "        stock_price = self.S0*np.exp(self.T*(self.rf - 0.5*self.sigma**2) + self.sigma*np.sqrt(self.T)*rand)\n",
    "    \n",
    "#         we need S-E because we need to calculate max(S-E,0)\n",
    "        option_data[:, 1] = self.E - stock_price\n",
    "    \n",
    "#         average for the Monte Carlo method\n",
    "        average = np.sum(np.amax(option_data, axis = 1))/float(self.iterations)\n",
    "    \n",
    "#         we have to use the discount factor as exp(-rT) for continuous discounting\n",
    "        return np.exp(-1.0*self.rf*self.T)*average\n",
    "    \n",
    "if __name__ == \"__main__\":\n",
    "    S0 = 100                       # underlying stock price at t = 0\n",
    "    E = 100                        # strike price\n",
    "    T = 1                          # expiry\n",
    "    rf = 0.3                      # risk-free rate\n",
    "    sigma = 0.2                   # volatility of the underlying stock\n",
    "    iterations = 1000000         # number of iterations in the Monte Carlo Simulation\n",
    "    \n",
    "    model1 = MonteCarlo(S0, E, T, rf, sigma, iterations)\n",
    "    model2 = BlackScholes(S0, E, T, rf, sigma)\n",
    "    print(\"Call option price with Monte Carlo approach: \", model1.call_option_simulation())\n",
    "    print(\"Put option price with Monte Carlo approach: \", model1.put_option_simulation())\n",
    "    print(\"Call option price with Black Scholes approach: \", model2.call_option_simulation())\n",
    "    print(\"Put option price with Black Scholes approach: \", model2.put_option_simulation())"
   ]
  },
  {
   "cell_type": "code",
   "execution_count": null,
   "id": "f2dedea1",
   "metadata": {},
   "outputs": [],
   "source": []
  }
 ],
 "metadata": {
  "kernelspec": {
   "display_name": "Python 3 (ipykernel)",
   "language": "python",
   "name": "python3"
  },
  "language_info": {
   "codemirror_mode": {
    "name": "ipython",
    "version": 3
   },
   "file_extension": ".py",
   "mimetype": "text/x-python",
   "name": "python",
   "nbconvert_exporter": "python",
   "pygments_lexer": "ipython3",
   "version": "3.10.9"
  }
 },
 "nbformat": 4,
 "nbformat_minor": 5
}
